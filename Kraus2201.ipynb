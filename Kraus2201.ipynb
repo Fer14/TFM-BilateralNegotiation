{
 "cells": [
  {
   "cell_type": "code",
   "execution_count": 1,
   "metadata": {},
   "outputs": [
    {
     "data": {
      "text/html": [
       "<style>.container { width:95% !important; }</style>"
      ],
      "text/plain": [
       "<IPython.core.display.HTML object>"
      ]
     },
     "metadata": {},
     "output_type": "display_data"
    }
   ],
   "source": [
    "%matplotlib inline\n",
    "import warnings\n",
    "warnings.filterwarnings('ignore')\n",
    "# setup disply parameters\n",
    "import pandas as pd\n",
    "import numpy as np\n",
    "from matplotlib import pylab as plt\n",
    "from matplotlib.ticker import StrMethodFormatter\n",
    "float_formatter = StrMethodFormatter('{x:0.03f}')\n",
    "from IPython.core.display import display, HTML\n",
    "display(HTML(\"<style>.container { width:95% !important; }</style>\"))\n",
    "SMALL_SIZE = 14\n",
    "MEDIUM_SIZE = 16\n",
    "BIGGER_SIZE = 20\n",
    "\n",
    "plt.rc('font', size=SMALL_SIZE)          # controls default text sizes\n",
    "plt.rc('axes', titlesize=SMALL_SIZE)     # fontsize of the axes title\n",
    "plt.rc('axes', labelsize=MEDIUM_SIZE)    # fontsize of the x and y labels\n",
    "plt.rc('xtick', labelsize=SMALL_SIZE)    # fontsize of the tick labels\n",
    "plt.rc('ytick', labelsize=SMALL_SIZE)    # fontsize of the tick labels\n",
    "plt.rc('legend', fontsize=SMALL_SIZE)    # legend fontsize\n",
    "plt.rc('figure', titlesize=BIGGER_SIZE)  # fontsize of the figure title\n",
    "plt.rc('figure', figsize=(18, 6)) # set figure size"
   ]
  },
  {
   "cell_type": "code",
   "execution_count": 27,
   "metadata": {},
   "outputs": [],
   "source": [
    "from negmas import Mechanism, MechanismRoundResult, Negotiator\n",
    "from negmas import MechanismState\n",
    "from negmas import AgentMechanismInterface\n",
    "from negmas import outcome_as_tuple\n",
    "from typing import Callable, Tuple, Optional, List, Any, Dict\n",
    "from negmas import Outcome, Issue, UtilityFunction, LinearUtilityFunction, ExpDiscountedUFun\n",
    "import numpy as np\n",
    "from scipy.optimize import minimize\n",
    "import matplotlib.pyplot as plt\n",
    "import seaborn as sns\n",
    "import nashpy"
   ]
  },
  {
   "cell_type": "code",
   "execution_count": 66,
   "metadata": {},
   "outputs": [],
   "source": [
    "class NewsletterUtility(UtilityFunction):\n",
    "    \n",
    "    def __init__(self, D, M,  c_time, c_call, D_joint, c_time_joint ):\n",
    "        super().__init__()\n",
    "        self.D = D\n",
    "        self.c_time = c_time\n",
    "        self.c_call = c_call\n",
    "        self.D_joint = D_joint\n",
    "        self.c_time_joint = c_time_joint\n",
    "        self.M = M\n",
    "    \n",
    "    def __call__(self, time):\n",
    "        return (self.D_joint - self.D + self.M*c_call + time*self.c_time - time*self.c_time_joint) -1 \n",
    "    \n",
    "    def is_better_tan_Opting_out(self,time,s):\n",
    "        if (self.D - self.M*c_call - time*self.c_time) >= (self.D_joint - s - time*self.c_time_joint):\n",
    "            return False\n",
    "        return True\n",
    "    \n",
    "    def utility_value(self,time,offer):\n",
    "        return self.D_joint - offer*self.c_call - time*c_time_joint\n",
    "    \n",
    "\n",
    "    def xml(self):\n",
    "        pass"
   ]
  },
  {
   "cell_type": "code",
   "execution_count": 32,
   "metadata": {},
   "outputs": [],
   "source": [
    "class RubinsteinMechanism(Mechanism):\n",
    "  \n",
    "    def __init__(self,**kwargs):\n",
    "        kwargs.update(dict(max_n_agents=2, dynamic_entry=False))\n",
    "        super().__init__(**kwargs)\n",
    "        self.add_requirements(dict(propose_for_self = True))\n",
    "        self.ufuns: List[UtilityFunction] = []\n",
    "\n",
    "    def add(self,negotiator: \"Negotiator\",*,ufun: Optional[\"UtilityFunction\"] = None,**kwargs,) -> Optional[bool]:\n",
    "        added = super().add(negotiator, ufun=ufun, role=None, **kwargs)\n",
    "        if added:\n",
    "            self.ufuns.append(self.negotiators[-1].utility_function)      \n",
    "            \n",
    "    def round(self)-> MechanismRoundResult:\n",
    "        \"\"\"One round of the mechanism\"\"\"\n",
    "        if self.current_step == 0:\n",
    "            if len(self.negotiators) != 2:\n",
    "                return MechanismRoundResult(error=True,\n",
    "                                        error_details=f\"Got {len(self.negotiators)} negotiators!!\",\n",
    "                                        broken=True)\n",
    "                \n",
    "        \n",
    "            [n.calculate_possible_agreements(self.ufuns) for n in self.negotiators]\n",
    "        \n",
    "        outcomes = list(n.propose_for_self(self.ufuns) for n in self.negotiators)\n",
    "        \n",
    "        if any(o is None for o in outcomes):\n",
    "            return MechanismRoundResult(broken=True)\n",
    "        \n",
    "        if (self.current_step) % 2 == 0: #Turno para Agente1 para hacer oferta\n",
    "            if  self.negotiators[1].accept_offer(self.ufuns,outcomes[0],self.current_step):#Turno para Agente2 para aceptar la oferta\n",
    "                return MechanismRoundResult(agreement = outcomes[0])\n",
    "        \n",
    "        else:#Turno para Agente2 para hacer oferta\n",
    "            if  self.negotiators[0].accept_offer(self.ufuns,outcomes[1],self.current_step):#Turno para Agente1 para aceptar la oferta\n",
    "                return MechanismRoundResult(agreement = outcomes[1])\n",
    "        \n",
    "        return MechanismRoundResult()"
   ]
  },
  {
   "cell_type": "code",
   "execution_count": 81,
   "metadata": {},
   "outputs": [],
   "source": [
    "class TODNegotiatior(Negotiator):\n",
    "\n",
    "    def __init__(self, index, *args, **kwargs):\n",
    "        super().__init__(*args, **kwargs)\n",
    "        self.add_capabilities(dict(propose_for_self=True))\n",
    "        self.index = index\n",
    "        self.other = 1 if self.index == 0 else 0\n",
    "        self.Possibles = []\n",
    "        self.T = 0\n",
    "        \n",
    "    def calculate_possible_agreements(self, ufuns: List[UtilityFunction]):\n",
    "        t=0\n",
    "        while True:\n",
    "            offer = ufuns[self.index](t)\n",
    "            if (ufuns[self.other].is_better_tan_Opting_out(t,100-offer) == False) or (ufuns[self.index].is_better_tan_Opting_out(t,offer) == False):\n",
    "                    break;\n",
    "            s = (100-offer,offer) if self.index == 1 else (offer,100-offer)\n",
    "            self.Possibles.append(s)\n",
    "            t +=1  \n",
    "        self.T = t \n",
    "        \n",
    "    def propose_for_self(self, ufuns: List[UtilityFunction]) -> List[int]:\n",
    "                \n",
    "        s2_ = ufuns[self.index](self.T-1)\n",
    "        s2 =  (s2_,100-s2_) if self.index == 0 else (100-s2_,s2_)\n",
    "        s2_1 = s2[0]\n",
    "        s2_2 = s2[1]\n",
    "        s1_ = ufuns[self.other](self.T-1)\n",
    "        s1 = (100-s1_,s1_) if self.index == 0 else (s1_,100-s1_)\n",
    "        s1_1 = s1[0]\n",
    "        s1_2 = s1[1]\n",
    "        \n",
    "        if (self.T) % 2 == 0:#PAR\n",
    "            return (int(s2_1 - (self.T/2)*2 + ((self.T/2)-1)*2), int(s2_2 + (self.T/2)*2 - ((self.T/2)-1)*2))\n",
    "            \n",
    "        else: #IMPAR\n",
    "            return (int(s1_1 - ((self.T/2)-1)*2 + (self.T/2)*2), int(s1_2 - ((self.T/2)-1)*2 + (self.T/2)*2))\n",
    "        \n",
    "        \n",
    "        \n",
    "    def accept_offer(self, ufuns: List[UtilityFunction],offer,time):\n",
    "        if not ufuns[self.index].is_better_tan_Opting_out(offer[self.index],time):\n",
    "            return False\n",
    "        else:\n",
    "            for times,offers in enumerate(self.Possibles):\n",
    "                if ufuns[self.index].utility_value(times,offers[self.index]) > ufuns[self.index].utility_value(time,offer[self.index]):\n",
    "                    return False\n",
    "        return True\n",
    "        \n",
    "        \n",
    "        \n",
    "        "
   ]
  },
  {
   "cell_type": "code",
   "execution_count": 82,
   "metadata": {},
   "outputs": [
    {
     "name": "stdout",
     "output_type": "stream",
     "text": [
      "Agreed to: (46, 54) in 1 steps\n"
     ]
    }
   ],
   "source": [
    "D1 = 200\n",
    "D2 = 225\n",
    "\n",
    "c_time = 1\n",
    "c_call = 1\n",
    "\n",
    "D1_joint = 170\n",
    "D2_joint = 200\n",
    "\n",
    "c_time_joint = 2\n",
    "\n",
    "M = 100\n",
    "\n",
    "\n",
    "u1 = NewsletterUtility(D1,M,c_time,c_call,D1_joint,c_time_joint)\n",
    "u2 = NewsletterUtility(D2,M,c_time,c_call,D2_joint,c_time_joint)\n",
    "\n",
    "\n",
    "m = RubinsteinMechanism()\n",
    "\n",
    "m.add(TODNegotiatior(0 ,ufun=u1, name=\"a1\"))\n",
    "m.add(TODNegotiatior(1, ufun=u2, name=\"a2\" ))\n",
    "\n",
    "\n",
    "\n",
    "result = m.run()\n",
    "print(f\"Agreed to: {result.agreement} in {m.current_step} steps\")\n"
   ]
  },
  {
   "cell_type": "code",
   "execution_count": 83,
   "metadata": {},
   "outputs": [
    {
     "name": "stdout",
     "output_type": "stream",
     "text": [
      "Agreed to: (51, 49) in 1 steps\n"
     ]
    }
   ],
   "source": [
    "D1 = 225 \n",
    "D2 = 200\n",
    "\n",
    "c_time = 1\n",
    "c_call = 1\n",
    "\n",
    "D1_joint = 200 \n",
    "D2_joint = 170\n",
    "\n",
    "c_time_joint = 2\n",
    "\n",
    "M = 100\n",
    "\n",
    "u1= NewsletterUtility(D1,M,c_time,c_call,D1_joint,c_time_joint)\n",
    "\n",
    "u2= NewsletterUtility(D2,M,c_time,c_call,D2_joint,c_time_joint)\n",
    "\n",
    "m = RubinsteinMechanism()\n",
    "\n",
    "m.add(TODNegotiatior(0 ,ufun=u1, name=\"a1\")) \n",
    "m.add(TODNegotiatior(1, ufun=u2, name=\"a2\" ))\n",
    "\n",
    "result = m.run() \n",
    "print(f\"Agreed to: {result.agreement} in {m.current_step} steps\")"
   ]
  },
  {
   "cell_type": "code",
   "execution_count": null,
   "metadata": {},
   "outputs": [],
   "source": []
  }
 ],
 "metadata": {
  "kernelspec": {
   "display_name": "Python 3",
   "language": "python",
   "name": "python3"
  },
  "language_info": {
   "codemirror_mode": {
    "name": "ipython",
    "version": 3
   },
   "file_extension": ".py",
   "mimetype": "text/x-python",
   "name": "python",
   "nbconvert_exporter": "python",
   "pygments_lexer": "ipython3",
   "version": "3.8.3"
  },
  "toc": {
   "base_numbering": 1,
   "nav_menu": {},
   "number_sections": true,
   "sideBar": true,
   "skip_h1_title": false,
   "title_cell": "Table of Contents",
   "title_sidebar": "Contents",
   "toc_cell": false,
   "toc_position": {},
   "toc_section_display": true,
   "toc_window_display": false
  }
 },
 "nbformat": 4,
 "nbformat_minor": 2
}
